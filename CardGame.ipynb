{
 "cells": [
  {
   "cell_type": "code",
   "execution_count": 3,
   "metadata": {},
   "outputs": [],
   "source": [
    "values = {'Two':2,'Three':3,'Four':4,'Five':5,'Six':6,'Seven':7\n",
    "          ,'Eight':8,'Nine':9,'Ten':10,'Jack':11,'Queen':12,'King':13,'Ace':14}\n",
    "suits = ('Hearts','Diamonds','Spades','Clubs')\n",
    "ranks = ('Two','Three','Four','Five','Six','Seven','Eight','Nine','Ten','Jack','Queen','King','Ace')\n"
   ]
  },
  {
   "cell_type": "code",
   "execution_count": 4,
   "metadata": {},
   "outputs": [],
   "source": [
    "import random \n",
    "class Card:\n",
    "    def __init__(self,suit,rank):\n",
    "        self.suit = suit\n",
    "        self.rank = rank\n",
    "        self.value = values[rank]\n",
    "    def __str__(self):\n",
    "        return self.rank +' of '+self.suit"
   ]
  },
  {
   "cell_type": "code",
   "execution_count": 31,
   "metadata": {},
   "outputs": [],
   "source": [
    "a = Card('Hearts','Ace')"
   ]
  },
  {
   "cell_type": "code",
   "execution_count": 32,
   "metadata": {},
   "outputs": [
    {
     "name": "stdout",
     "output_type": "stream",
     "text": [
      "Ace of Hearts\n"
     ]
    }
   ],
   "source": [
    "print(a)"
   ]
  },
  {
   "cell_type": "code",
   "execution_count": 33,
   "metadata": {},
   "outputs": [
    {
     "data": {
      "text/plain": [
       "14"
      ]
     },
     "execution_count": 33,
     "metadata": {},
     "output_type": "execute_result"
    }
   ],
   "source": [
    "a.value"
   ]
  },
  {
   "cell_type": "code",
   "execution_count": 34,
   "metadata": {},
   "outputs": [
    {
     "data": {
      "text/plain": [
       "'Ace'"
      ]
     },
     "execution_count": 34,
     "metadata": {},
     "output_type": "execute_result"
    }
   ],
   "source": [
    "a.rank"
   ]
  },
  {
   "cell_type": "code",
   "execution_count": 35,
   "metadata": {},
   "outputs": [
    {
     "data": {
      "text/plain": [
       "'Hearts'"
      ]
     },
     "execution_count": 35,
     "metadata": {},
     "output_type": "execute_result"
    }
   ],
   "source": [
    "a.suit"
   ]
  },
  {
   "cell_type": "code",
   "execution_count": 5,
   "metadata": {},
   "outputs": [],
   "source": [
    "class Deck:\n",
    "    def __init__(self):\n",
    "        self.all_cards = []\n",
    "        for suit in suits:\n",
    "            for rank in ranks:\n",
    "                created_card = Card(suit,rank)\n",
    "                self.all_cards.append(created_card)\n",
    "    def shuffle(self):\n",
    "        random.shuffle(self.all_cards)\n",
    "    def deal_one(self):\n",
    "        return self.all_cards.pop()\n",
    "        "
   ]
  },
  {
   "cell_type": "code",
   "execution_count": 38,
   "metadata": {},
   "outputs": [],
   "source": [
    "new_deck = Deck()"
   ]
  },
  {
   "cell_type": "code",
   "execution_count": 39,
   "metadata": {},
   "outputs": [],
   "source": [
    "new_deck.shuffle()"
   ]
  },
  {
   "cell_type": "code",
   "execution_count": 40,
   "metadata": {},
   "outputs": [],
   "source": [
    "my_card = new_deck.deal_one()"
   ]
  },
  {
   "cell_type": "code",
   "execution_count": 41,
   "metadata": {},
   "outputs": [
    {
     "name": "stdout",
     "output_type": "stream",
     "text": [
      "Seven of Spades\n"
     ]
    }
   ],
   "source": [
    "print(my_card)"
   ]
  },
  {
   "cell_type": "code",
   "execution_count": null,
   "metadata": {},
   "outputs": [],
   "source": []
  },
  {
   "cell_type": "code",
   "execution_count": 6,
   "metadata": {},
   "outputs": [],
   "source": [
    "class Player:\n",
    "    def __init__(self,name):\n",
    "        self.name = name\n",
    "        self.all_cards = []\n",
    "    def remove_one(self):\n",
    "        return self.all_cards.pop(0)\n",
    "    def add_cards(self,new_cards):\n",
    "        if type(new_cards) == type([]):\n",
    "            self.all_cards.extend(new_cards)\n",
    "        else:\n",
    "            self.all_cards.append(new_cards)\n",
    "    def __str__(self):\n",
    "        return f'Player(self.name) has {len(self.all_cards)} cards.'"
   ]
  },
  {
   "cell_type": "code",
   "execution_count": 7,
   "metadata": {},
   "outputs": [],
   "source": [
    "#Game Setup\n",
    "player_one = Player('One')\n",
    "player_two = Player('Two')\n",
    " \n",
    "new_deck = Deck()\n",
    "new_deck.shuffle()\n",
    "\n",
    "for x in range(26):\n",
    "    player_one.add_cards(new_deck.deal_one())\n",
    "    player_two.add_cards(new_deck.deal_one())\n"
   ]
  },
  {
   "cell_type": "code",
   "execution_count": 8,
   "metadata": {},
   "outputs": [
    {
     "name": "stdout",
     "output_type": "stream",
     "text": [
      "Round 1\n",
      "Round 2\n",
      "WAR!\n",
      "WAR!\n",
      "WAR!\n",
      "Round 3\n",
      "Round 4\n",
      "Round 5\n",
      "WAR!\n",
      "Round 6\n",
      "WAR!\n",
      "Player Two unable to play at War!Game Over at War.\n",
      "Player One won the game!.\n"
     ]
    }
   ],
   "source": [
    "game_on = True\n",
    "round_num = 0\n",
    "while game_on:\n",
    "    round_num += 1\n",
    "    print(f'Round {round_num}')\n",
    "    \n",
    "    if len(player_one.all_cards) == 0:\n",
    "        print('Player one is out of cards!Game Over.')\n",
    "        print('Player two won the game!')\n",
    "        game_on = False\n",
    "        break\n",
    "    if len(player_one.all_cards) == 0:\n",
    "        print('Player two is out of cards!Game Over.')\n",
    "        print('Plater one won the game!')\n",
    "        game_on = False\n",
    "        break\n",
    "    #Otherwis,New round\n",
    "    player_one_cards = []\n",
    "    player_one_cards.append(player_one.remove_one())\n",
    "    player_two_cards = []\n",
    "    player_two_cards.append(player_two.remove_one())  \n",
    "    \n",
    "    at_war = True\n",
    "              \n",
    "    while at_war:\n",
    "        if player_one_cards[-1].value > player_two_cards[-1].value:\n",
    "                player_one.add_cards(player_one_cards)\n",
    "                player_one.add_cards(player_two_cards)\n",
    "                at_war = False\n",
    "                \n",
    "        elif player_two_cards[-1].value < player_two_cards[-1].value:\n",
    "                player_two.add_cards(player_one_cards)\n",
    "                player_two.add_cards(player_two_cards)\n",
    "                at_war = False \n",
    "                                      \n",
    "        else:\n",
    "                  print('WAR!')\n",
    "                  if len(player_one.all_cards) < 5:\n",
    "                    print('Player One unable to play at war!Game Over at War.')\n",
    "                    print('Player Two won the game!')\n",
    "                    game_on = False\n",
    "                    break\n",
    "              \n",
    "                  elif len(player_two.all_cards)  < 5:\n",
    "                    print('Player Two unable to play at War!Game Over at War.')\n",
    "                    print('Player One won the game!.')\n",
    "                    game_on = False\n",
    "                    break\n",
    "              \n",
    "                  else:\n",
    "                    for num in range(5):\n",
    "                        player_one_cards.append(player_one.remove_one())\n",
    "                        player_two_cards.append(player_two.remove_one())\n",
    "               \n",
    "              "
   ]
  },
  {
   "cell_type": "code",
   "execution_count": null,
   "metadata": {},
   "outputs": [],
   "source": []
  }
 ],
 "metadata": {
  "kernelspec": {
   "display_name": "Python 3",
   "language": "python",
   "name": "python3"
  },
  "language_info": {
   "codemirror_mode": {
    "name": "ipython",
    "version": 3
   },
   "file_extension": ".py",
   "mimetype": "text/x-python",
   "name": "python",
   "nbconvert_exporter": "python",
   "pygments_lexer": "ipython3",
   "version": "3.8.3"
  }
 },
 "nbformat": 4,
 "nbformat_minor": 4
}
