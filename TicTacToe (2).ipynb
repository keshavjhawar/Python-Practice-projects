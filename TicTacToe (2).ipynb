{
 "cells": [
  {
   "cell_type": "code",
   "execution_count": 12,
   "metadata": {},
   "outputs": [],
   "source": [
    "from IPython.display import clear_output"
   ]
  },
  {
   "cell_type": "code",
   "execution_count": 13,
   "metadata": {},
   "outputs": [],
   "source": [
    "def display_board(board):\n",
    "    clear_output()\n",
    "    print('   |    |')\n",
    "    print(' ' + board[7]+'    '+board[8] + '    ' + board[9])\n",
    "    print('   |    |')\n",
    "    print('------------')\n",
    "    print('   |    |')\n",
    "    print(' ' + board[4]+'    '+board[5] + '    ' + board[6])\n",
    "    print('   |    |')\n",
    "    print('------------')\n",
    "    print('   |    |')\n",
    "    print(' ' + board[1]+'    '+board[2] + '    ' + board[3]) \n",
    "    print('   |    |')\n",
    "    \n",
    "    "
   ]
  },
  {
   "cell_type": "code",
   "execution_count": 3,
   "metadata": {},
   "outputs": [],
   "source": [
    "board = ['£','X','O','O','X','O','X','X','X','O']"
   ]
  },
  {
   "cell_type": "code",
   "execution_count": 4,
   "metadata": {},
   "outputs": [
    {
     "name": "stdout",
     "output_type": "stream",
     "text": [
      "   |    |\n",
      " X    X    O\n",
      "   |    |\n",
      "------------\n",
      "   |    |\n",
      " X    O    X\n",
      "   |    |\n",
      "------------\n",
      "   |    |\n",
      " X    O    O\n",
      "   |    |\n"
     ]
    }
   ],
   "source": [
    "display_board(board)"
   ]
  },
  {
   "cell_type": "code",
   "execution_count": 14,
   "metadata": {},
   "outputs": [],
   "source": [
    "def player_input():\n",
    "    choice = ''\n",
    "    while not (choice == 'X' or choice == 'O'):\n",
    "        choice = input('player1: Do you want to be X or O : ').upper()\n",
    "    if choice == 'X':\n",
    "        return ('X','O')\n",
    "    else:\n",
    "        return('O','X')\n",
    "    \n",
    "                "
   ]
  },
  {
   "cell_type": "code",
   "execution_count": 15,
   "metadata": {},
   "outputs": [],
   "source": [
    "def place_marker(board,choice,opt):\n",
    "    board[opt] = choice"
   ]
  },
  {
   "cell_type": "code",
   "execution_count": 16,
   "metadata": {},
   "outputs": [],
   "source": [
    "def win_check(board,mark):\n",
    "    return ((board[7] == mark and board[8] == mark and board[9] == mark) or\n",
    "            (board[4] == mark and board[5] == mark and board[6] == mark) or\n",
    "            (board[1] == mark and board[2] == mark and board[3] == mark) or\n",
    "            (board[7] == mark and board[5] == mark and board[3] == mark) or\n",
    "            (board[9] == mark and board[5] == mark and board[1] == mark) or\n",
    "            (board[7] == mark and board[4] == mark and board[1] == mark) or\n",
    "            (board[8] == mark and board[5] == mark and board[2] == mark) or\n",
    "            (board[9] == mark and board[6] == mark and board[3] == mark)) \n",
    "           \n",
    "\n"
   ]
  },
  {
   "cell_type": "code",
   "execution_count": 17,
   "metadata": {},
   "outputs": [],
   "source": [
    "import random\n",
    "def choose_first():\n",
    "    if random.randint(0,1) == 0:\n",
    "        return 'Player1'\n",
    "    else:\n",
    "        return 'Player2'\n"
   ]
  },
  {
   "cell_type": "code",
   "execution_count": 18,
   "metadata": {},
   "outputs": [],
   "source": [
    "def space_check(board,opt):\n",
    "    return board[opt] == ' '"
   ]
  },
  {
   "cell_type": "code",
   "execution_count": 19,
   "metadata": {},
   "outputs": [],
   "source": [
    "def fullboard_check(board):\n",
    "    for x in range(1,10):\n",
    "        if space_check(board,x):\n",
    "            return False\n",
    "    return True   \n",
    "        "
   ]
  },
  {
   "cell_type": "code",
   "execution_count": 20,
   "metadata": {},
   "outputs": [],
   "source": [
    "def player_choice(board):\n",
    "    opt = 0\n",
    "    while opt not in [1,2,3,4,5,6,7,8,9] or not space_check(board,opt):\n",
    "         opt = int(input('Choose a position in (1-9) : '))\n",
    "    return opt\n",
    "        "
   ]
  },
  {
   "cell_type": "code",
   "execution_count": 21,
   "metadata": {},
   "outputs": [],
   "source": [
    "def replay():\n",
    "    return input('Do you want to play again?Yes or No').lower().startswith('y')"
   ]
  },
  {
   "cell_type": "code",
   "execution_count": 22,
   "metadata": {},
   "outputs": [
    {
     "name": "stdout",
     "output_type": "stream",
     "text": [
      "   |    |\n",
      " X    O    X\n",
      "   |    |\n",
      "------------\n",
      "   |    |\n",
      " X    O    O\n",
      "   |    |\n",
      "------------\n",
      "   |    |\n",
      " O    X    X\n",
      "   |    |\n",
      "The game is a draw!\n"
     ]
    },
    {
     "name": "stdin",
     "output_type": "stream",
     "text": [
      "Do you want to play again?Yes or No n\n"
     ]
    }
   ],
   "source": [
    "print('Welcome to tic tac toe!')\n",
    "while True:\n",
    "    theboard = [' '] * 10\n",
    "    player1_marker,player2_marker = player_input()\n",
    "    turn = choose_first()\n",
    "    print(turn+'will go first.')\n",
    "    play_game = input('Are you ready to play,Yes or No.')\n",
    "    if play_game.lower()[0] == 'y':\n",
    "        game_on = True\n",
    "    else:\n",
    "        game_on = False\n",
    "    while game_on:\n",
    "        if turn == 'Player1':\n",
    "            display_board(theboard)\n",
    "            opt = player_choice(theboard)\n",
    "            place_marker(theboard,player1_marker,opt)\n",
    "            if win_check(theboard,player1_marker):\n",
    "                display_board(board)\n",
    "                print('Congratulations!,You have won the game!')\n",
    "                game_on = False\n",
    "            else:\n",
    "                if fullboard_check(theboard):\n",
    "                    display_board(theboard)\n",
    "                    print('The game is a draw!')\n",
    "                    break\n",
    "                else:\n",
    "                    turn = 'Player2'\n",
    "        else:\n",
    "            display_board(theboard)\n",
    "            opt = player_choice(theboard)\n",
    "            place_marker(theboard,player2_marker,opt)\n",
    "            if win_check(theboard,player2_marker):\n",
    "                display_board(theboard)\n",
    "                print('Congratulations!,You have won the game!')\n",
    "                game_on = False \n",
    "            else:\n",
    "                if fullboard_check(theboard):\n",
    "                    display(theboard)\n",
    "                    print('The game is draw!')\n",
    "                    break\n",
    "                else:\n",
    "                    turn = 'Player1'\n",
    "    if not replay():\n",
    "        break\n",
    "           "
   ]
  },
  {
   "cell_type": "code",
   "execution_count": null,
   "metadata": {},
   "outputs": [],
   "source": []
  },
  {
   "cell_type": "code",
   "execution_count": null,
   "metadata": {},
   "outputs": [],
   "source": [
    "p1,p2=player_input('a','b')"
   ]
  },
  {
   "cell_type": "code",
   "execution_count": null,
   "metadata": {},
   "outputs": [],
   "source": []
  },
  {
   "cell_type": "code",
   "execution_count": null,
   "metadata": {},
   "outputs": [],
   "source": [
    "test = ['X','X','X','','','','','','']"
   ]
  },
  {
   "cell_type": "code",
   "execution_count": null,
   "metadata": {},
   "outputs": [],
   "source": [
    " win_check(test,'X')"
   ]
  },
  {
   "cell_type": "code",
   "execution_count": null,
   "metadata": {},
   "outputs": [],
   "source": [
    "display_board(test)"
   ]
  },
  {
   "cell_type": "code",
   "execution_count": null,
   "metadata": {},
   "outputs": [],
   "source": [
    "win_check(test,'X')"
   ]
  },
  {
   "cell_type": "code",
   "execution_count": null,
   "metadata": {},
   "outputs": [],
   "source": [
    "display_board(test)"
   ]
  },
  {
   "cell_type": "code",
   "execution_count": null,
   "metadata": {},
   "outputs": [],
   "source": [
    "place_marker(test,'X',1)"
   ]
  },
  {
   "cell_type": "code",
   "execution_count": 287,
   "metadata": {},
   "outputs": [
    {
     "data": {
      "text/plain": [
       "8"
      ]
     },
     "execution_count": 287,
     "metadata": {},
     "output_type": "execute_result"
    }
   ],
   "source": [
    "4*2"
   ]
  },
  {
   "cell_type": "code",
   "execution_count": null,
   "metadata": {},
   "outputs": [],
   "source": [
    "display_board(test)"
   ]
  },
  {
   "cell_type": "code",
   "execution_count": null,
   "metadata": {},
   "outputs": [],
   "source": [
    "a=[1,2,3]\n",
    "b=[4,5,6]\n",
    "c=[7,8,9]"
   ]
  },
  {
   "cell_type": "code",
   "execution_count": null,
   "metadata": {},
   "outputs": [],
   "source": [
    "print(c)\n",
    "print(b)\n",
    "print(a)"
   ]
  },
  {
   "cell_type": "code",
   "execution_count": null,
   "metadata": {},
   "outputs": [],
   "source": []
  },
  {
   "cell_type": "code",
   "execution_count": null,
   "metadata": {},
   "outputs": [],
   "source": []
  },
  {
   "cell_type": "code",
   "execution_count": null,
   "metadata": {},
   "outputs": [],
   "source": []
  },
  {
   "cell_type": "code",
   "execution_count": null,
   "metadata": {},
   "outputs": [],
   "source": []
  },
  {
   "cell_type": "code",
   "execution_count": null,
   "metadata": {},
   "outputs": [],
   "source": [
    "a= [range(1,9)]"
   ]
  },
  {
   "cell_type": "code",
   "execution_count": null,
   "metadata": {},
   "outputs": [],
   "source": [
    "a= [1,2,3]\n",
    "b= [4,5,6]\n",
    "c= [7,8,9]"
   ]
  },
  {
   "cell_type": "markdown",
   "metadata": {},
   "source": [
    "a"
   ]
  },
  {
   "cell_type": "code",
   "execution_count": null,
   "metadata": {},
   "outputs": [],
   "source": [
    "print('hel\\nlo') "
   ]
  },
  {
   "cell_type": "code",
   "execution_count": null,
   "metadata": {},
   "outputs": [],
   "source": [
    "print('hello' 'dear' )"
   ]
  },
  {
   "cell_type": "code",
   "execution_count": null,
   "metadata": {},
   "outputs": [],
   "source": [
    "print(a)\n",
    "print(b)"
   ]
  },
  {
   "cell_type": "code",
   "execution_count": null,
   "metadata": {},
   "outputs": [],
   "source": []
  }
 ],
 "metadata": {
  "kernelspec": {
   "display_name": "Python 3",
   "language": "python",
   "name": "python3"
  },
  "language_info": {
   "codemirror_mode": {
    "name": "ipython",
    "version": 3
   },
   "file_extension": ".py",
   "mimetype": "text/x-python",
   "name": "python",
   "nbconvert_exporter": "python",
   "pygments_lexer": "ipython3",
   "version": "3.8.3"
  }
 },
 "nbformat": 4,
 "nbformat_minor": 4
}
